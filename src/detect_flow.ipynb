{
 "cells": [
  {
   "cell_type": "code",
   "execution_count": 6,
   "metadata": {},
   "outputs": [],
   "source": [
    "%matplotlib inline\n",
    "import numpy as np\n",
    "import os\n",
    "from evaluate_tools import evaluate,plot_confusion_matrix\n",
    "import matplotlib\n",
    "import matplotlib.cm as cm\n",
    "import matplotlib.pyplot as plt\n",
    "from sklearn.metrics import confusion_matrix\n",
    "import itertools\n",
    "cnn_prob_file='../result/cnn_prob.csv'\n",
    "tscnn_prob_file='../result/tscnn_prob.csv'\n",
    "yolo_prob_file='../result/yolo_prob.csv'\n",
    "tsyolo_prob_file='../result/tsyolo_prob.csv'"
   ]
  },
  {
   "cell_type": "code",
   "execution_count": 7,
   "metadata": {},
   "outputs": [],
   "source": [
    "def read_probs():\n",
    "    probs={}\n",
    "    \n",
    "    with open(cnn_prob_file) as f:\n",
    "        next(f)\n",
    "        lines=f.readlines()\n",
    "    for line in lines:\n",
    "        data=line.replace(\"\\n\",\"\").split(\",\")\n",
    "        fn=data[0].split(\"/\")[4].replace(\".txt\",\"\").replace(\".jpg\",\"\")\n",
    "        if fn not in probs:\n",
    "            probs[fn]={}\n",
    "            probs[fn][\"real\"]=float(data[1])\n",
    "        probs[fn][\"cnn\"]={}\n",
    "        probs[fn][\"cnn\"][\"prob\"]=np.asarray([float(i) for i in data[2:5]])\n",
    "        probs[fn][\"cnn\"][\"result\"]=np.argmax(probs[fn][\"cnn\"][\"prob\"])\n",
    "            \n",
    "    with open(tscnn_prob_file) as f:\n",
    "        next(f)\n",
    "        lines=f.readlines()\n",
    "    for line in lines:\n",
    "        data=line.replace(\"\\n\",\"\").split(\",\")\n",
    "        fn=data[0].split(\"/\")[4].replace(\".txt\",\"\").replace(\".jpg\",\"\")\n",
    "        if fn not in probs:\n",
    "            probs[fn]={}\n",
    "            probs[fn][\"real\"]=float(data[1])\n",
    "        probs[fn][\"tscnn\"]={}\n",
    "        probs[fn][\"tscnn\"][\"prob\"]=np.asarray([float(i) for i in data[2:5]])\n",
    "        probs[fn][\"tscnn\"][\"result\"]=np.argmax(probs[fn][\"tscnn\"][\"prob\"])\n",
    "    \n",
    "    with open(yolo_prob_file) as f:\n",
    "        next(f)\n",
    "        lines=f.readlines()\n",
    "    for line in lines:\n",
    "        data=line.replace(\"\\n\",\"\").split(\",\")\n",
    "        fn=data[0].split(\"/\")[4].replace(\".txt\",\"\").replace(\".jpg\",\"\")\n",
    "        if fn not in probs:\n",
    "            probs[fn]={}\n",
    "            probs[fn][\"real\"]=float(data[1])\n",
    "        probs[fn][\"yolo\"]={}\n",
    "        probs[fn][\"yolo\"][\"prob\"]=np.asarray([float(i) for i in data[2:5]])\n",
    "        probs[fn][\"yolo\"][\"result\"]=np.argmax(probs[fn][\"yolo\"][\"prob\"])\n",
    "            \n",
    "    with open(tsyolo_prob_file) as f:\n",
    "        next(f)\n",
    "        lines=f.readlines()\n",
    "    for line in lines:\n",
    "        data=line.replace(\"\\n\",\"\").split(\",\")\n",
    "        fn=data[0].split(\"/\")[4].replace(\".txt\",\"\").replace(\".jpg\",\"\")\n",
    "        if fn not in probs:\n",
    "            probs[fn]={}\n",
    "            probs[fn][\"real\"]=float(data[1])\n",
    "        probs[fn][\"tsyolo\"]={}\n",
    "        probs[fn][\"tsyolo\"][\"prob\"]=np.asarray([float(i) for i in data[2:5]])\n",
    "        probs[fn][\"tsyolo\"][\"result\"]=np.argmax(probs[fn][\"tsyolo\"][\"prob\"])\n",
    "    \n",
    "    return probs"
   ]
  },
  {
   "cell_type": "code",
   "execution_count": 8,
   "metadata": {},
   "outputs": [],
   "source": [
    "probs=read_probs()"
   ]
  },
  {
   "cell_type": "code",
   "execution_count": 9,
   "metadata": {},
   "outputs": [
    {
     "name": "stdout",
     "output_type": "stream",
     "text": [
      "\n",
      "SCOREs\n",
      "+-------+-----------+--------+--------+---------+\n",
      "| Label | Precision | Recall | FScore | Support |\n",
      "+=======+===========+========+========+=========+\n",
      "| 0     | 0.824     | 0.764  | 0.792  | 110     |\n",
      "+-------+-----------+--------+--------+---------+\n",
      "| 1     | 0.754     | 0.836  | 0.793  | 110     |\n",
      "+-------+-----------+--------+--------+---------+\n",
      "| 2     | 0.972     | 0.936  | 0.954  | 110     |\n",
      "+-------+-----------+--------+--------+---------+\n",
      "\n",
      "\n",
      " CONFUSION MATRIX\n",
      "[[0.76363636 0.23636364 0.        ]\n",
      " [0.13636364 0.83636364 0.02727273]\n",
      " [0.02727273 0.03636364 0.93636364]]\n"
     ]
    },
    {
     "data": {
      "image/png": "[encoded data removed]",
      "text/plain": [
       "<Figure size 432x288 with 2 Axes>"
      ]
     },
     "metadata": {
      "needs_background": "light"
     },
     "output_type": "display_data"
    }
   ],
   "source": [
    "def voting_a(probs):\n",
    "    true=[]\n",
    "    pred=[]\n",
    "    for k in sorted(probs,key=lambda k:probs[k][\"real\"]):\n",
    "        true_value=probs[k][\"real\"]\n",
    "        pred_value=[probs[k][\"cnn\"][\"result\"],probs[k][\"tscnn\"][\"result\"],probs[k][\"yolo\"][\"result\"],probs[k][\"tsyolo\"][\"result\"]]\n",
    "        true.append(true_value)\n",
    "        if pred_value.count(1)>=2:\n",
    "            pred.append(1)\n",
    "        elif pred_value.count(2)>=3:\n",
    "            pred.append(2)\n",
    "        else:\n",
    "            pred.append(0)\n",
    "    return np.asarray(true),np.asarray(pred)\n",
    "t,p=voting_a(probs)\n",
    "evaluate(t,p)\n",
    "plot_confusion_matrix(t,p,[\"n\",\"p\",\"x\"])"
   ]
  },
  {
   "cell_type": "code",
   "execution_count": 10,
   "metadata": {
    "scrolled": false
   },
   "outputs": [
    {
     "name": "stdout",
     "output_type": "stream",
     "text": [
      "\n",
      "SCOREs\n",
      "+-------+-----------+--------+--------+---------+\n",
      "| Label | Precision | Recall | FScore | Support |\n",
      "+=======+===========+========+========+=========+\n",
      "| 0     | 0.857     | 0.764  | 0.808  | 110     |\n",
      "+-------+-----------+--------+--------+---------+\n",
      "| 1     | 0.754     | 0.836  | 0.793  | 110     |\n",
      "+-------+-----------+--------+--------+---------+\n",
      "| 2     | 0.964     | 0.964  | 0.964  | 110     |\n",
      "+-------+-----------+--------+--------+---------+\n",
      "\n",
      "\n",
      " CONFUSION MATRIX\n",
      "[[0.76363636 0.23636364 0.        ]\n",
      " [0.12727273 0.83636364 0.03636364]\n",
      " [0.         0.03636364 0.96363636]]\n"
     ]
    },
    {
     "data": {
      "image/png": "[encoded data removed]",
      "text/plain": [
       "<Figure size 432x288 with 2 Axes>"
      ]
     },
     "metadata": {
      "needs_background": "light"
     },
     "output_type": "display_data"
    }
   ],
   "source": [
    "def voting_b(probs):\n",
    "    true=[]\n",
    "    pred=[]\n",
    "    for k in sorted(probs,key=lambda k:probs[k][\"real\"]):\n",
    "        true_value=probs[k][\"real\"]\n",
    "        pred_value=[probs[k][\"cnn\"][\"result\"],probs[k][\"tscnn\"][\"result\"],probs[k][\"yolo\"][\"result\"],probs[k][\"tsyolo\"][\"result\"]]\n",
    "        true.append(true_value)\n",
    "        if pred_value.count(1)>=2:\n",
    "            pred.append(1)\n",
    "        elif pred_value.count(2)>=2:\n",
    "            pred.append(2)\n",
    "        else:\n",
    "            pred.append(0)\n",
    "    return np.asarray(true),np.asarray(pred)\n",
    "t,p=voting_b(probs)\n",
    "evaluate(t,p)\n",
    "plot_confusion_matrix(t,p,[\"n\",\"p\",\"x\"])"
   ]
  },
  {
   "cell_type": "code",
   "execution_count": null,
   "metadata": {},
   "outputs": [],
   "source": []
  }
 ],
 "metadata": {
  "kernelspec": {
   "display_name": "Python 3",
   "language": "python",
   "name": "python3"
  },
  "language_info": {
   "codemirror_mode": {
    "name": "ipython",
    "version": 3
   },
   "file_extension": ".py",
   "mimetype": "text/x-python",
   "name": "python",
   "nbconvert_exporter": "python",
   "pygments_lexer": "ipython3",
   "version": "3.5.2"
  }
 },
 "nbformat": 4,
 "nbformat_minor": 2
}
