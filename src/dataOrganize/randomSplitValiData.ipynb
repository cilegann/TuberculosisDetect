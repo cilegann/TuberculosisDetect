{
 "cells": [
  {
   "cell_type": "code",
   "execution_count": 24,
   "metadata": {},
   "outputs": [],
   "source": [
    "import os\n",
    "import random\n",
    "from tqdm import tqdm_notebook as tqdm"
   ]
  },
  {
   "cell_type": "code",
   "execution_count": 25,
   "metadata": {},
   "outputs": [],
   "source": [
    "train_dir='./'\n",
    "vali_dir='./vali'\n",
    "labels=['negative','positive','polluted']\n",
    "num_of_moving=[960,0,90]\n",
    "prefix='otr_'"
   ]
  },
  {
   "cell_type": "code",
   "execution_count": 27,
   "metadata": {},
   "outputs": [
    {
     "name": "stdout",
     "output_type": "stream",
     "text": [
      "Processing  negative\n"
     ]
    },
    {
     "data": {
      "application/vnd.jupyter.widget-view+json": {
       "model_id": "a615711e7d2941409922611f8bd6ca7c",
       "version_major": 2,
       "version_minor": 0
      },
      "text/plain": [
       "HBox(children=(IntProgress(value=0, max=960), HTML(value='')))"
      ]
     },
     "metadata": {},
     "output_type": "display_data"
    },
    {
     "name": "stdout",
     "output_type": "stream",
     "text": [
      "\n",
      "Processing  positive\n"
     ]
    },
    {
     "data": {
      "application/vnd.jupyter.widget-view+json": {
       "model_id": "7c19a46d43f145928a9585cc2440a2c0",
       "version_major": 2,
       "version_minor": 0
      },
      "text/plain": [
       "HBox(children=(IntProgress(value=1, bar_style='info', max=1), HTML(value='')))"
      ]
     },
     "metadata": {},
     "output_type": "display_data"
    },
    {
     "name": "stdout",
     "output_type": "stream",
     "text": [
      "\n",
      "Processing  polluted\n"
     ]
    },
    {
     "data": {
      "application/vnd.jupyter.widget-view+json": {
       "model_id": "99c402eb28154440a2564d66d92d0931",
       "version_major": 2,
       "version_minor": 0
      },
      "text/plain": [
       "HBox(children=(IntProgress(value=0, max=90), HTML(value='')))"
      ]
     },
     "metadata": {},
     "output_type": "display_data"
    },
    {
     "name": "stdout",
     "output_type": "stream",
     "text": [
      "\n"
     ]
    }
   ],
   "source": [
    "for i in range(3):\n",
    "    print(\"Processing \",labels[i])\n",
    "    filenames=[]\n",
    "    for file in os.listdir(os.path.join(train_dir,labels[i])):\n",
    "        if 'txt' not in file:\n",
    "            filenames.append(file)\n",
    "    to_move_id=random.sample(range(0,len(filenames)),num_of_moving[i])\n",
    "    to_moves=[filenames[id] for id in to_move_id]\n",
    "    for to_move in tqdm(to_moves):\n",
    "        os.rename(os.path.join(train_dir,labels[i],to_move),os.path.join(vali_dir,labels[i],prefix+to_move))\n",
    "        os.rename(os.path.join(train_dir,labels[i],to_move+'.txt'),os.path.join(vali_dir,labels[i],prefix+to_move+'.txt'))"
   ]
  },
  {
   "cell_type": "code",
   "execution_count": 9,
   "metadata": {},
   "outputs": [
    {
     "name": "stdout",
     "output_type": "stream",
     "text": [
      "[59, 56, 4, 71, 70, 87, 84, 80, 72, 28, 36, 50, 46, 79, 41, 93, 61, 64, 74, 47, 21, 67, 11, 22, 62, 63, 82, 53, 76, 89, 45, 85, 57, 1, 17, 95, 69, 86, 99, 90, 20, 66, 68, 9, 48, 24, 44, 6, 10, 54, 18, 33, 12, 52, 39, 14, 13, 43, 98, 37, 26, 81, 78, 30, 7, 49, 55, 77, 92, 31, 5, 60, 75, 34, 38, 27, 19, 51, 96, 8, 29, 97, 3, 32, 73, 58, 16, 88, 65, 23, 91, 2, 25, 42, 15, 94, 35, 40, 83]\n"
     ]
    }
   ],
   "source": [
    "print(random.sample(range(1, 100), 99))"
   ]
  },
  {
   "cell_type": "code",
   "execution_count": null,
   "metadata": {},
   "outputs": [],
   "source": []
  }
 ],
 "metadata": {
  "kernelspec": {
   "display_name": "Python 3",
   "language": "python",
   "name": "python3"
  },
  "language_info": {
   "codemirror_mode": {
    "name": "ipython",
    "version": 3
   },
   "file_extension": ".py",
   "mimetype": "text/x-python",
   "name": "python",
   "nbconvert_exporter": "python",
   "pygments_lexer": "ipython3",
   "version": "3.5.2"
  }
 },
 "nbformat": 4,
 "nbformat_minor": 2
}
