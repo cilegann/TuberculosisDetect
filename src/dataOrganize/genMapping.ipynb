{
 "cells": [
  {
   "cell_type": "code",
   "execution_count": 6,
   "metadata": {},
   "outputs": [],
   "source": [
    "import os"
   ]
  },
  {
   "cell_type": "code",
   "execution_count": 7,
   "metadata": {},
   "outputs": [],
   "source": [
    "os.chdir('../../')\n",
    "targetDir='data_200519_testing'\n",
    "scanning=['negative','positive','polluted']\n",
    "datasetName='200519_testing'\n",
    "imgPostfix='cnn_mapping'\n",
    "txtPostfix='yolo9000_mapping'"
   ]
  },
  {
   "cell_type": "code",
   "execution_count": 9,
   "metadata": {
    "scrolled": true
   },
   "outputs": [
    {
     "data": {
      "text/plain": [
       "16"
      ]
     },
     "execution_count": 9,
     "metadata": {},
     "output_type": "execute_result"
    }
   ],
   "source": [
    "imgFile=open(os.path.join('mapping',datasetName+\"_\"+imgPostfix+\".csv\"),'w')\n",
    "txtFile=open(os.path.join('mapping',datasetName+\"_\"+txtPostfix+'.csv'),'w')\n",
    "imgFile.write(\"file_path,label\\n\")\n",
    "txtFile.write(\"file_path,label\\n\")"
   ]
  },
  {
   "cell_type": "code",
   "execution_count": 11,
   "metadata": {},
   "outputs": [],
   "source": [
    "# renaming files\n",
    "for r,d,f in os.walk(os.path.join(targetDir)):\n",
    "    for ff in f:\n",
    "        os.rename(os.path.join(r,ff),os.path.join(r,ff).replace(\" \",\"\").replace(\"(\",\"\").replace(\")\",\"\"))"
   ]
  },
  {
   "cell_type": "code",
   "execution_count": 15,
   "metadata": {},
   "outputs": [],
   "source": [
    "for i,s in enumerate(scanning):\n",
    "    for r,d,f in os.walk(os.path.join(targetDir,s)):\n",
    "        for ff in f:\n",
    "            if 'txt' in ff:\n",
    "                txtFile.write(os.path.join(r,ff)+\",\"+str(i)+\"\\n\")\n",
    "            else:\n",
    "                imgFile.write(os.path.join(r,ff)+\",\"+str(i)+)"
   ]
  },
  {
   "cell_type": "code",
   "execution_count": null,
   "metadata": {},
   "outputs": [],
   "source": []
  }
 ],
 "metadata": {
  "kernelspec": {
   "display_name": "Python 3",
   "language": "python",
   "name": "python3"
  },
  "language_info": {
   "codemirror_mode": {
    "name": "ipython",
    "version": 3
   },
   "file_extension": ".py",
   "mimetype": "text/x-python",
   "name": "python",
   "nbconvert_exporter": "python",
   "pygments_lexer": "ipython3",
   "version": "3.5.2"
  },
  "varInspector": {
   "cols": {
    "lenName": 16,
    "lenType": 16,
    "lenVar": 40
   },
   "kernels_config": {
    "python": {
     "delete_cmd_postfix": "",
     "delete_cmd_prefix": "del ",
     "library": "var_list.py",
     "varRefreshCmd": "print(var_dic_list())"
    },
    "r": {
     "delete_cmd_postfix": ") ",
     "delete_cmd_prefix": "rm(",
     "library": "var_list.r",
     "varRefreshCmd": "cat(var_dic_list()) "
    }
   },
   "types_to_exclude": [
    "module",
    "function",
    "builtin_function_or_method",
    "instance",
    "_Feature"
   ],
   "window_display": false
  }
 },
 "nbformat": 4,
 "nbformat_minor": 2
}
