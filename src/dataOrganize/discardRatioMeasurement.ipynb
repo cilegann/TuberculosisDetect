{
 "cells": [
  {
   "cell_type": "code",
   "execution_count": 2,
   "metadata": {},
   "outputs": [
    {
     "data": {
      "text/plain": [
       "'/home/cilegann/Documents/TB'"
      ]
     },
     "execution_count": 2,
     "metadata": {},
     "output_type": "execute_result"
    }
   ],
   "source": [
    "import os\n",
    "import random\n",
    "from tqdm import tqdm_notebook as tqdm\n",
    "from datetime import datetime\n",
    "import math\n",
    "from scipy import spatial\n",
    "from PIL import Image\n",
    "import numpy as np\n",
    "from matplotlib import pyplot as plt\n",
    "import sys\n",
    "from skimage.measure import compare_ssim,compare_mse\n",
    "\n",
    "random.seed(datetime.now())\n",
    "os.chdir('/home/cilegann/Documents/TB')\n",
    "os.getcwd()"
   ]
  },
  {
   "cell_type": "code",
   "execution_count": 3,
   "metadata": {},
   "outputs": [],
   "source": [
    "database='./data'\n",
    "dirs=['negative','positive','polluted']"
   ]
  },
  {
   "cell_type": "code",
   "execution_count": 4,
   "metadata": {},
   "outputs": [],
   "source": [
    "def getGroup(str):\n",
    "    return str[:str.find(\"_\")]\n",
    "def getDateStr(str):\n",
    "    if '/' in str:\n",
    "        str=str[str.rfind('/'):]\n",
    "    return str[str.find(\"_\")+1:str.find(\".\")]\n",
    "def getDate(str):\n",
    "    return datetime.strptime(getDateStr(str), \"%Y%m%d\").date()"
   ]
  },
  {
   "cell_type": "code",
   "execution_count": 5,
   "metadata": {},
   "outputs": [
    {
     "name": "stdout",
     "output_type": "stream",
     "text": [
      "+++ Start building info +++\n",
      "+++ Building info done +++\n"
     ]
    }
   ],
   "source": [
    "samples={}\n",
    "print(\"+++ Start building info +++\")\n",
    "for r,ds,fs in os.walk(database):\n",
    "    for f in fs:\n",
    "        path=os.path.join(r,f)\n",
    "        group=getGroup(f)\n",
    "        if 'txt' not in f and 'jpg' in f and 'smote' not in r:\n",
    "            if len(group)!=1 and group!='discrete':\n",
    "                if group not in samples:\n",
    "                    samples[group]={'files':[],'result':0,'duration':0,'length':0,'type':'sample','firstdate':None}\n",
    "                samples[group]['files'].append(path)\n",
    "            else:\n",
    "                samples[f]={'files':[path],'result':0,'duration':1,'length':1,'type':'discrete','firstdate':None}\n",
    "                if 'positive' in path:\n",
    "                    samples[f]['result']=1\n",
    "                if 'polluted' in path:\n",
    "                    samples[f]['result']=2\n",
    "print(\"+++ Building info done +++\")"
   ]
  },
  {
   "cell_type": "code",
   "execution_count": 6,
   "metadata": {},
   "outputs": [
    {
     "name": "stdout",
     "output_type": "stream",
     "text": [
      "+++ Start sorting +++\n",
      "+++ Sorting done +++\n"
     ]
    }
   ],
   "source": [
    "print(\"+++ Start sorting +++\")\n",
    "for k,v in samples.items():\n",
    "    samples[k]['files']=sorted(samples[k]['files'],key=lambda x:getDateStr(x))\n",
    "print(\"+++ Sorting done +++\")"
   ]
  },
  {
   "cell_type": "code",
   "execution_count": 7,
   "metadata": {},
   "outputs": [
    {
     "name": "stdout",
     "output_type": "stream",
     "text": [
      "+++ Start computing duration and length +++\n",
      "+++ Computing duration and length done +++\n"
     ]
    }
   ],
   "source": [
    "print(\"+++ Start computing duration and length +++\")\n",
    "for k,v in (samples.items()):\n",
    "    if samples[k]['type']==\"sample\":\n",
    "        samples[k]['duration']=(getDate(samples[k]['files'][-1])-getDate(samples[k]['files'][0])).days+1\n",
    "        samples[k]['length']=len(samples[k]['files'])\n",
    "        samples[k]['firstdate']=getDate(samples[k]['files'][0])\n",
    "        if 'positive' in samples[k]['files'][-1]:\n",
    "            samples[k]['result']=1\n",
    "        if 'polluted' in samples[k]['files'][-1]:\n",
    "            samples[k]['result']=2\n",
    "print(\"+++ Computing duration and length done +++\")"
   ]
  },
  {
   "cell_type": "code",
   "execution_count": 8,
   "metadata": {},
   "outputs": [],
   "source": [
    "negative={}\n",
    "d_positive={}\n",
    "s_positive={}\n",
    "positive={}\n",
    "polluted={}\n",
    "for k,v in (samples.items()):\n",
    "    if samples[k]['result']==0:\n",
    "        negative[k]=samples[k]\n",
    "    elif samples[k]['result']==1:\n",
    "        if v['type']=='discrete':\n",
    "            d_positive[k]=samples[k]\n",
    "        else:\n",
    "            s_positive[k]=samples[k]\n",
    "        positive[k]=samples[k]\n",
    "    elif samples[k]['result']==2:\n",
    "        polluted[k]=samples[k]"
   ]
  },
  {
   "cell_type": "code",
   "execution_count": 111,
   "metadata": {},
   "outputs": [
    {
     "name": "stdout",
     "output_type": "stream",
     "text": [
      "======================\n",
      "Ratio: 0.3\n",
      "[593, 483, 492]\n",
      "orig len: 16503.0\n",
      "train len: 14635.0\n",
      "discard len: 1568.0\n",
      "mse: 699.8844816336817\n",
      "ssim: 0.8068434986293099\n",
      "======================\n",
      "Ratio: 0.35\n",
      "[517, 451, 492]\n",
      "orig len: 16503.0\n",
      "train len: 14743.0\n",
      "discard len: 1460.0\n",
      "mse: 658.1972101633411\n",
      "ssim: 0.8116383951571163\n",
      "======================\n",
      "Ratio: 0.39999999999999997\n",
      "[517, 411, 422]\n",
      "orig len: 16503.0\n",
      "train len: 14853.0\n",
      "discard len: 1350.0\n",
      "mse: 566.8967932351247\n",
      "ssim: 0.8242195236512101\n",
      "======================\n",
      "Ratio: 0.44999999999999996\n",
      "[445, 374, 376]\n",
      "orig len: 16503.0\n",
      "train len: 15008.0\n",
      "discard len: 1195.0\n",
      "mse: 499.4728361707019\n",
      "ssim: 0.830800481279989\n",
      "======================\n",
      "Ratio: 0.49999999999999994\n",
      "[424, 350, 375]\n",
      "orig len: 16503.0\n",
      "train len: 15054.0\n",
      "discard len: 1149.0\n",
      "mse: 493.3512822133035\n",
      "ssim: 0.8308061195902371\n",
      "======================\n",
      "Ratio: 0.5499999999999999\n",
      "[347, 293, 300]\n",
      "orig len: 16503.0\n",
      "train len: 15263.0\n",
      "discard len: 940.0\n",
      "mse: 482.1572238944653\n",
      "ssim: 0.8354618582660067\n",
      "======================\n",
      "Ratio: 0.5999999999999999\n",
      "[344, 267, 278]\n",
      "orig len: 16503.0\n",
      "train len: 15314.0\n",
      "discard len: 889.0\n",
      "mse: 473.15980448523527\n",
      "ssim: 0.8374209873763087\n",
      "======================\n",
      "Ratio: 0.6499999999999999\n",
      "[261, 216, 250]\n",
      "orig len: 16503.0\n",
      "train len: 15476.0\n",
      "discard len: 727.0\n",
      "mse: 395.7437017777149\n",
      "ssim: 0.8493730103003396\n",
      "======================\n",
      "Ratio: 0.7\n",
      "[239, 185, 197]\n",
      "orig len: 16503.0\n",
      "train len: 15582.0\n",
      "discard len: 621.0\n",
      "mse: 319.0121804979955\n",
      "ssim: 0.8610244923556543\n",
      "======================\n",
      "Ratio: 0.7499999999999999\n",
      "[190, 163, 172]\n",
      "orig len: 16503.0\n",
      "train len: 15678.0\n",
      "discard len: 525.0\n",
      "mse: 432.86449521982763\n",
      "ssim: 0.8424635798341916\n",
      "======================\n",
      "Ratio: 0.7999999999999998\n",
      "[141, 117, 117]\n",
      "orig len: 16503.0\n",
      "train len: 15828.0\n",
      "discard len: 375.0\n",
      "mse: 321.8337268383349\n",
      "ssim: 0.861823032824001\n",
      "======================\n",
      "Ratio: 0.8499999999999999\n",
      "[90, 68, 81]\n",
      "orig len: 16503.0\n",
      "train len: 15964.0\n",
      "discard len: 239.0\n",
      "mse: 313.21383592920927\n",
      "ssim: 0.8709077512659387\n",
      "======================\n",
      "Ratio: 0.8999999999999999\n",
      "[35, 31, 32]\n",
      "orig len: 16503.0\n",
      "train len: 16105.0\n",
      "discard len: 98.0\n",
      "mse: 266.821105533826\n",
      "ssim: 0.8814072543631754\n"
     ]
    }
   ],
   "source": [
    "#ratios=[0.3,0.35,0.4,0.5,0.6,0.7,0.8,0.9]\n",
    "ratios=np.arange(0.3, 0.95, 0.05)\n",
    "times=1\n",
    "mse_result=[]\n",
    "ssim_result=[]\n",
    "discarded_length_result=[]\n",
    "origin_length_result=[]\n",
    "train_length_result=[]\n",
    "\n",
    "for r in ratios:\n",
    "    total_mses=0\n",
    "    total_ssims=0\n",
    "    total_discarded=0\n",
    "    total_origin=0\n",
    "    total_train=0\n",
    "    print(\"======================\")\n",
    "    print(\"Ratio:\",r)\n",
    "    \n",
    "    for time in (range(times)):\n",
    "        mses=0\n",
    "        ssims=0\n",
    "        origin=0\n",
    "        train=0\n",
    "        vali_negative_groups=random.sample(set(negative),100)\n",
    "        vali_dpositive_groups=random.sample(set(d_positive),21)\n",
    "        vali_spositive_groups=random.sample(set(s_positive),79)\n",
    "        vali_positive_groups=vali_dpositive_groups+vali_spositive_groups\n",
    "        vali_polluted_groups=random.sample(set(polluted),100)\n",
    "        vali_groups=vali_negative_groups+vali_positive_groups+vali_polluted_groups\n",
    "        train_len_percentile=r\n",
    "        tv_pairs=[]\n",
    "        cnt=[0,0,0]\n",
    "        for k,v in samples.items():\n",
    "            total_origin+=len(v['files'])\n",
    "            if k in vali_groups and v['type']!='discrete':\n",
    "                vali_file=v['files'][-1]\n",
    "                files=v['files'][:-1]\n",
    "                remainder_len=len(files)\n",
    "                train_len=math.ceil(remainder_len*train_len_percentile)\n",
    "                total_discarded+=(remainder_len-train_len)\n",
    "                cnt[v['result']]+=(remainder_len-train_len)\n",
    "                total_train+=train_len\n",
    "#                 tv_pairs.append((vali_file,files[max(train_len-1,0)]))\n",
    "                if v['result']!=0:\n",
    "                    tv_pairs.append((vali_file,files[train_len-1]))\n",
    "            elif k not in vali_groups:\n",
    "                total_train+=len(v['files'])\n",
    "        for pair in tv_pairs:\n",
    "            v=np.asarray(Image.open(pair[0]))\n",
    "            t=np.asarray(Image.open(pair[1]))\n",
    "            s=compare_ssim(v,t,multichannel=True)\n",
    "            d=compare_mse(v,t)\n",
    "#             v=v.reshape(-1)\n",
    "#             t=t.reshape(-1)\n",
    "#             v=v/255.\n",
    "#             t=t/255.\n",
    "#             d=np.linalg.notm(v - t)\n",
    "            mses+=(d)\n",
    "            ssims+=(s)\n",
    "        mses/=len(tv_pairs)\n",
    "        ssims/=len(tv_pairs)\n",
    "        total_mses+=mses\n",
    "        total_ssims+=ssims\n",
    "    print(cnt)\n",
    "    total_train/=times\n",
    "    total_origin/=times\n",
    "    total_discarded/=times\n",
    "    total_mses/=times\n",
    "    total_ssims/=times\n",
    "    mse_result.append(total_mses)\n",
    "    ssim_result.append(total_ssims)\n",
    "    discarded_length_result.append(total_discarded)\n",
    "    origin_length_result.append(total_origin)\n",
    "    train_length_result.append(total_train)\n",
    "    print(\"orig len:\",total_origin)\n",
    "    print(\"train len:\",total_train)\n",
    "    print(\"discard len:\",total_discarded)\n",
    "    print(\"mse:\",total_mses)\n",
    "    print(\"ssim:\",total_ssims)"
   ]
  },
  {
   "cell_type": "code",
   "execution_count": 112,
   "metadata": {},
   "outputs": [],
   "source": [
    "ssim_result_n = [float(i)/max(ssim_result) for i in ssim_result]\n",
    "mse_result_n = [float(i)/max(mse_result) for i in mse_result]\n",
    "train_length_result_n=[float(i)/max(train_length_result) for i in train_length_result]\n",
    "discarded_length_result_n=[float(i)/max(discarded_length_result) for i in discarded_length_result]\n",
    "\n",
    "ssim_discarded=[(s*d) for s,d in zip(ssim_result_n,discarded_length_result_n)]\n",
    "ssim_discarded_ratio=[(s*(d/o)) for s,d,o in zip(ssim_result,discarded_length_result,origin_length_result)]\n",
    "ssim_train=[(s/t) for s,t in zip(ssim_result_n,train_length_result_n)]\n",
    "ssim_train_ratio=[(s/(t/o)) for s,t,o in zip(ssim_result,train_length_result,origin_length_result)]\n",
    "\n",
    "mse_discarded=[(d/m) for m,d in zip(mse_result_n,discarded_length_result_n)]\n",
    "mse_discarded_ratio=[((d/o)/m) for m,d,o in zip(mse_result,discarded_length_result,origin_length_result)]\n",
    "mse_train=[(1/(m*t)) for m,t in zip(mse_result_n,train_length_result_n)]\n",
    "mse_train_ratio=[(1/(m*(t/o))) for m,t,o in zip(mse_result,train_length_result,origin_length_result)]\n",
    "\n",
    "\n",
    "\n",
    "fuck_you_ratio=[((s*d)/(m*t)) for s,d,m,t in zip(ssim_result_n,discarded_length_result_n,mse_result_n,train_length_result_n)]\n",
    "\n"
   ]
  },
  {
   "cell_type": "code",
   "execution_count": 115,
   "metadata": {
    "scrolled": true
   },
   "outputs": [
    {
     "data": {
      "image/png": "[encoded data removed]",
      "text/plain": [
       "<Figure size 432x288 with 1 Axes>"
      ]
     },
     "metadata": {
      "needs_background": "light"
     },
     "output_type": "display_data"
    }
   ],
   "source": [
    "plt.xlabel(\"Preserved ratio\")\n",
    "plt.ylabel(\"Similarity / Vol. of training data\")\n",
    "plt.plot( [ratios[i] for i in [0,2,4,6,8,10,12]],[ssim_train[i] for i in [0,2,4,6,8,10,12]])\n",
    "plt.savefig('ratio.png', dpi=300,bbox_inches='tight')"
   ]
  },
  {
   "cell_type": "code",
   "execution_count": null,
   "metadata": {},
   "outputs": [],
   "source": []
  },
  {
   "cell_type": "code",
   "execution_count": null,
   "metadata": {},
   "outputs": [],
   "source": []
  },
  {
   "cell_type": "code",
   "execution_count": null,
   "metadata": {},
   "outputs": [],
   "source": []
  },
  {
   "cell_type": "code",
   "execution_count": null,
   "metadata": {},
   "outputs": [],
   "source": []
  },
  {
   "cell_type": "code",
   "execution_count": null,
   "metadata": {},
   "outputs": [],
   "source": []
  },
  {
   "cell_type": "code",
   "execution_count": null,
   "metadata": {},
   "outputs": [],
   "source": []
  },
  {
   "cell_type": "code",
   "execution_count": null,
   "metadata": {},
   "outputs": [],
   "source": []
  },
  {
   "cell_type": "code",
   "execution_count": null,
   "metadata": {},
   "outputs": [],
   "source": []
  },
  {
   "cell_type": "code",
   "execution_count": null,
   "metadata": {},
   "outputs": [],
   "source": []
  },
  {
   "cell_type": "code",
   "execution_count": null,
   "metadata": {},
   "outputs": [],
   "source": []
  },
  {
   "cell_type": "code",
   "execution_count": 43,
   "metadata": {},
   "outputs": [
    {
     "data": {
      "image/png": "[encoded data removed]",
      "text/plain": [
       "<Figure size 432x288 with 1 Axes>"
      ]
     },
     "metadata": {
      "needs_background": "light"
     },
     "output_type": "display_data"
    }
   ],
   "source": [
    "import matplotlib.pyplot as plt\n",
    "import numpy as np\n",
    "import scipy.stats as stats\n",
    "import math\n",
    "\n",
    "mu = 0\n",
    "variance = 1\n",
    "sigma = math.sqrt(variance)\n",
    "x = np.linspace(mu - 3*sigma, mu + 3*sigma, 100)\n",
    "y=stats.norm.pdf(x, mu, sigma)\n",
    "x=list(x)\n",
    "y=list(y)\n",
    "x.extend([-0.5,0.5,0,-0.1,0.1,-0.2,0.2,-0.3,0.3,0,0,0])\n",
    "y.extend([0.27,0.27,0.2,0.19,0.19,0.18,0.18,0.19,0.19,0.21,0.22,0.23])\n",
    "plt.scatter(x, y)\n",
    "plt.show()"
   ]
  },
  {
   "cell_type": "code",
   "execution_count": null,
   "metadata": {},
   "outputs": [],
   "source": []
  }
 ],
 "metadata": {
  "kernelspec": {
   "display_name": "Python 3",
   "language": "python",
   "name": "python3"
  },
  "language_info": {
   "codemirror_mode": {
    "name": "ipython",
    "version": 3
   },
   "file_extension": ".py",
   "mimetype": "text/x-python",
   "name": "python",
   "nbconvert_exporter": "python",
   "pygments_lexer": "ipython3",
   "version": "3.5.2"
  },
  "varInspector": {
   "cols": {
    "lenName": 16,
    "lenType": 16,
    "lenVar": 40
   },
   "kernels_config": {
    "python": {
     "delete_cmd_postfix": "",
     "delete_cmd_prefix": "del ",
     "library": "var_list.py",
     "varRefreshCmd": "print(var_dic_list())"
    },
    "r": {
     "delete_cmd_postfix": ") ",
     "delete_cmd_prefix": "rm(",
     "library": "var_list.r",
     "varRefreshCmd": "cat(var_dic_list()) "
    }
   },
   "types_to_exclude": [
    "module",
    "function",
    "builtin_function_or_method",
    "instance",
    "_Feature"
   ],
   "window_display": false
  }
 },
 "nbformat": 4,
 "nbformat_minor": 2
}
