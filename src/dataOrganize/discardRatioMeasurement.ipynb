{
 "cells": [
  {
   "cell_type": "code",
   "execution_count": 1,
   "metadata": {},
   "outputs": [
    {
     "data": {
      "text/plain": [
       "'/home/cilegann/Documents/TB'"
      ]
     },
     "execution_count": 1,
     "metadata": {},
     "output_type": "execute_result"
    }
   ],
   "source": [
    "import os\n",
    "import random\n",
    "from tqdm import tqdm_notebook as tqdm\n",
    "from datetime import datetime\n",
    "import math\n",
    "from scipy import spatial\n",
    "from PIL import Image\n",
    "import numpy as np\n",
    "from matplotlib import pyplot as plt\n",
    "import sys\n",
    "from skimage.measure import compare_ssim,compare_mse\n",
    "\n",
    "random.seed(datetime.now())\n",
    "os.chdir('/home/cilegann/Documents/TB')\n",
    "os.getcwd()"
   ]
  },
  {
   "cell_type": "code",
   "execution_count": 2,
   "metadata": {},
   "outputs": [],
   "source": [
    "database='./data'\n",
    "dirs=['negative','positive','polluted']"
   ]
  },
  {
   "cell_type": "code",
   "execution_count": 3,
   "metadata": {},
   "outputs": [],
   "source": [
    "def getGroup(str):\n",
    "    return str[:str.find(\"_\")]\n",
    "def getDateStr(str):\n",
    "    if '/' in str:\n",
    "        str=str[str.rfind('/'):]\n",
    "    return str[str.find(\"_\")+1:str.find(\".\")]\n",
    "def getDate(str):\n",
    "    return datetime.strptime(getDateStr(str), \"%Y%m%d\").date()"
   ]
  },
  {
   "cell_type": "code",
   "execution_count": 4,
   "metadata": {},
   "outputs": [
    {
     "name": "stdout",
     "output_type": "stream",
     "text": [
      "+++ Start building info +++\n",
      "+++ Building info done +++\n"
     ]
    }
   ],
   "source": [
    "samples={}\n",
    "print(\"+++ Start building info +++\")\n",
    "for r,ds,fs in os.walk(database):\n",
    "    for f in fs:\n",
    "        path=os.path.join(r,f)\n",
    "        group=getGroup(f)\n",
    "        if 'txt' not in f and 'jpg' in f and 'smote' not in r:\n",
    "            if len(group)!=1 and group!='discrete':\n",
    "                if group not in samples:\n",
    "                    samples[group]={'files':[],'result':0,'duration':0,'length':0,'type':'sample','firstdate':None}\n",
    "                samples[group]['files'].append(path)\n",
    "            else:\n",
    "                samples[f]={'files':[path],'result':0,'duration':1,'length':1,'type':'discrete','firstdate':None}\n",
    "                if 'positive' in path:\n",
    "                    samples[f]['result']=1\n",
    "                if 'polluted' in path:\n",
    "                    samples[f]['result']=2\n",
    "print(\"+++ Building info done +++\")"
   ]
  },
  {
   "cell_type": "code",
   "execution_count": 5,
   "metadata": {},
   "outputs": [
    {
     "name": "stdout",
     "output_type": "stream",
     "text": [
      "+++ Start sorting +++\n",
      "+++ Sorting done +++\n"
     ]
    }
   ],
   "source": [
    "print(\"+++ Start sorting +++\")\n",
    "for k,v in samples.items():\n",
    "    samples[k]['files']=sorted(samples[k]['files'],key=lambda x:getDateStr(x))\n",
    "print(\"+++ Sorting done +++\")"
   ]
  },
  {
   "cell_type": "code",
   "execution_count": 6,
   "metadata": {},
   "outputs": [
    {
     "name": "stdout",
     "output_type": "stream",
     "text": [
      "+++ Start computing duration and length +++\n",
      "+++ Computing duration and length done +++\n"
     ]
    }
   ],
   "source": [
    "print(\"+++ Start computing duration and length +++\")\n",
    "for k,v in (samples.items()):\n",
    "    if samples[k]['type']==\"sample\":\n",
    "        samples[k]['duration']=(getDate(samples[k]['files'][-1])-getDate(samples[k]['files'][0])).days+1\n",
    "        samples[k]['length']=len(samples[k]['files'])\n",
    "        samples[k]['firstdate']=getDate(samples[k]['files'][0])\n",
    "        if 'positive' in samples[k]['files'][-1]:\n",
    "            samples[k]['result']=1\n",
    "        if 'polluted' in samples[k]['files'][-1]:\n",
    "            samples[k]['result']=2\n",
    "print(\"+++ Computing duration and length done +++\")"
   ]
  },
  {
   "cell_type": "code",
   "execution_count": 7,
   "metadata": {},
   "outputs": [],
   "source": [
    "negative={}\n",
    "d_positive={}\n",
    "s_positive={}\n",
    "positive={}\n",
    "polluted={}\n",
    "for k,v in (samples.items()):\n",
    "    if samples[k]['result']==0:\n",
    "        negative[k]=samples[k]\n",
    "    elif samples[k]['result']==1:\n",
    "        if v['type']=='discrete':\n",
    "            d_positive[k]=samples[k]\n",
    "        else:\n",
    "            s_positive[k]=samples[k]\n",
    "        positive[k]=samples[k]\n",
    "    elif samples[k]['result']==2:\n",
    "        polluted[k]=samples[k]"
   ]
  },
  {
   "cell_type": "code",
   "execution_count": 9,
   "metadata": {},
   "outputs": [
    {
     "name": "stdout",
     "output_type": "stream",
     "text": [
      "======================\n",
      "Ratio: 0.3\n",
      "[565, 483, 540]\n",
      "orig len: 16503.0\n",
      "train len: 14615.0\n",
      "discard len: 1588.0\n",
      "mse: 690.9974551743494\n",
      "ssim: 0.807687124040314\n",
      "======================\n",
      "Ratio: 0.4\n",
      "[504, 411, 430]\n",
      "orig len: 16503.0\n",
      "train len: 14858.0\n",
      "discard len: 1345.0\n",
      "mse: 585.4976980301735\n",
      "ssim: 0.820498572597979\n",
      "======================\n",
      "Ratio: 0.5\n",
      "[460, 350, 365]\n",
      "orig len: 16503.0\n",
      "train len: 15028.0\n",
      "discard len: 1175.0\n",
      "mse: 495.1587119467391\n",
      "ssim: 0.8312090772703961\n",
      "======================\n",
      "Ratio: 0.6000000000000001\n",
      "[328, 256, 269]\n",
      "orig len: 16503.0\n",
      "train len: 15350.0\n",
      "discard len: 853.0\n",
      "mse: 408.6396227745526\n",
      "ssim: 0.8500731822054639\n",
      "======================\n",
      "Ratio: 0.7000000000000002\n",
      "[251, 184, 194]\n",
      "orig len: 16503.0\n",
      "train len: 15574.0\n",
      "discard len: 629.0\n",
      "mse: 382.21040327696625\n",
      "ssim: 0.8509308634344839\n",
      "======================\n",
      "Ratio: 0.8000000000000003\n",
      "[138, 106, 111]\n",
      "orig len: 16503.0\n",
      "train len: 15848.0\n",
      "discard len: 355.0\n",
      "mse: 347.97522902232356\n",
      "ssim: 0.8600133390105814\n",
      "======================\n",
      "Ratio: 0.9000000000000001\n",
      "[39, 30, 29]\n",
      "orig len: 16503.0\n",
      "train len: 16105.0\n",
      "discard len: 98.0\n",
      "mse: 256.9580977777824\n",
      "ssim: 0.8837197906165949\n"
     ]
    }
   ],
   "source": [
    "#ratios=[0.3,0.35,0.4,0.5,0.6,0.7,0.8,0.9]\n",
    "ratios=np.arange(0.3, 0.95, 0.1)\n",
    "times=1\n",
    "mse_result=[]\n",
    "ssim_result=[]\n",
    "discarded_length_result=[]\n",
    "origin_length_result=[]\n",
    "train_length_result=[]\n",
    "\n",
    "for r in ratios:\n",
    "    total_mses=0\n",
    "    total_ssims=0\n",
    "    total_discarded=0\n",
    "    total_origin=0\n",
    "    total_train=0\n",
    "    print(\"======================\")\n",
    "    print(\"Ratio:\",r)\n",
    "    \n",
    "    for time in (range(times)):\n",
    "        mses=0\n",
    "        ssims=0\n",
    "        origin=0\n",
    "        train=0\n",
    "        vali_negative_groups=random.sample(set(negative),100)\n",
    "        vali_dpositive_groups=random.sample(set(d_positive),21)\n",
    "        vali_spositive_groups=random.sample(set(s_positive),79)\n",
    "        vali_positive_groups=vali_dpositive_groups+vali_spositive_groups\n",
    "        vali_polluted_groups=random.sample(set(polluted),100)\n",
    "        vali_groups=vali_negative_groups+vali_positive_groups+vali_polluted_groups\n",
    "        train_len_percentile=r\n",
    "        tv_pairs=[]\n",
    "        cnt=[0,0,0]\n",
    "        for k,v in samples.items():\n",
    "            total_origin+=len(v['files'])\n",
    "            if k in vali_groups and v['type']!='discrete':\n",
    "                vali_file=v['files'][-1]\n",
    "                files=v['files'][:-1]\n",
    "                remainder_len=len(files)\n",
    "                train_len=math.ceil(remainder_len*train_len_percentile)\n",
    "                total_discarded+=(remainder_len-train_len)\n",
    "                cnt[v['result']]+=(remainder_len-train_len)\n",
    "                total_train+=train_len\n",
    "#                 tv_pairs.append((vali_file,files[max(train_len-1,0)]))\n",
    "                if v['result']!=0:\n",
    "                    tv_pairs.append((vali_file,files[train_len-1]))\n",
    "            elif k not in vali_groups:\n",
    "                total_train+=len(v['files'])\n",
    "        for pair in tv_pairs:\n",
    "            v=np.asarray(Image.open(pair[0]))\n",
    "            t=np.asarray(Image.open(pair[1]))\n",
    "            s=compare_ssim(v,t,multichannel=True)\n",
    "            d=compare_mse(v,t)\n",
    "#             v=v.reshape(-1)\n",
    "#             t=t.reshape(-1)\n",
    "#             v=v/255.\n",
    "#             t=t/255.\n",
    "#             d=np.linalg.notm(v - t)\n",
    "            mses+=(d)\n",
    "            ssims+=(s)\n",
    "        mses/=len(tv_pairs)\n",
    "        ssims/=len(tv_pairs)\n",
    "        total_mses+=mses\n",
    "        total_ssims+=ssims\n",
    "    print(cnt)\n",
    "    total_train/=times\n",
    "    total_origin/=times\n",
    "    total_discarded/=times\n",
    "    total_mses/=times\n",
    "    total_ssims/=times\n",
    "    mse_result.append(total_mses)\n",
    "    ssim_result.append(total_ssims)\n",
    "    discarded_length_result.append(total_discarded)\n",
    "    origin_length_result.append(total_origin)\n",
    "    train_length_result.append(total_train)\n",
    "    print(\"orig len:\",total_origin)\n",
    "    print(\"train len:\",total_train)\n",
    "    print(\"discard len:\",total_discarded)\n",
    "    print(\"mse:\",total_mses)\n",
    "    print(\"ssim:\",total_ssims)"
   ]
  },
  {
   "cell_type": "code",
   "execution_count": 10,
   "metadata": {},
   "outputs": [],
   "source": [
    "ssim_result_n = [float(i)/max(ssim_result) for i in ssim_result]\n",
    "mse_result_n = [float(i)/max(mse_result) for i in mse_result]\n",
    "train_length_result_n=[float(i)/max(train_length_result) for i in train_length_result]\n",
    "discarded_length_result_n=[float(i)/max(discarded_length_result) for i in discarded_length_result]\n",
    "\n",
    "ssim_discarded=[(s*d) for s,d in zip(ssim_result_n,discarded_length_result_n)]\n",
    "ssim_discarded_ratio=[(s*(d/o)) for s,d,o in zip(ssim_result,discarded_length_result,origin_length_result)]\n",
    "ssim_train=[(s/t) for s,t in zip(ssim_result_n,train_length_result_n)]\n",
    "ssim_train_ratio=[(s/(t/o)) for s,t,o in zip(ssim_result,train_length_result,origin_length_result)]\n",
    "\n",
    "mse_discarded=[(d/m) for m,d in zip(mse_result_n,discarded_length_result_n)]\n",
    "mse_discarded_ratio=[((d/o)/m) for m,d,o in zip(mse_result,discarded_length_result,origin_length_result)]\n",
    "mse_train=[(1/(m*t)) for m,t in zip(mse_result_n,train_length_result_n)]\n",
    "mse_train_ratio=[(1/(m*(t/o))) for m,t,o in zip(mse_result,train_length_result,origin_length_result)]\n",
    "\n",
    "\n",
    "\n",
    "fuck_you_ratio=[((s*d)/(m*t)) for s,d,m,t in zip(ssim_result_n,discarded_length_result_n,mse_result_n,train_length_result_n)]\n",
    "\n"
   ]
  },
  {
   "cell_type": "code",
   "execution_count": 11,
   "metadata": {},
   "outputs": [
    {
     "data": {
      "text/plain": [
       "array([0.3, 0.4, 0.5, 0.6, 0.7, 0.8, 0.9])"
      ]
     },
     "execution_count": 11,
     "metadata": {},
     "output_type": "execute_result"
    }
   ],
   "source": [
    "ratios"
   ]
  },
  {
   "cell_type": "code",
   "execution_count": 12,
   "metadata": {},
   "outputs": [
    {
     "data": {
      "text/plain": [
       "[1.0071414912677454,\n",
       " 1.0063837694109032,\n",
       " 1.007987714954279,\n",
       " 1.009239137541994,\n",
       " 0.9957269315433068,\n",
       " 0.9889557797350222,\n",
       " 1.0]"
      ]
     },
     "execution_count": 12,
     "metadata": {},
     "output_type": "execute_result"
    }
   ],
   "source": [
    "ssim_train"
   ]
  },
  {
   "cell_type": "code",
   "execution_count": 16,
   "metadata": {
    "scrolled": true
   },
   "outputs": [
    {
     "data": {
      "image/png": "[encoded data removed]",
      "text/plain": [
       "<Figure size 432x288 with 1 Axes>"
      ]
     },
     "metadata": {
      "needs_background": "light"
     },
     "output_type": "display_data"
    }
   ],
   "source": [
    "plt.xlabel(\"Preserved ratio\")\n",
    "plt.ylabel(\"average SSIM / Vol. of training set\")\n",
    "plt.plot( ratios,ssim_train,'--bo',color='black')\n",
    "plt.savefig('ratio.png', dpi=300,bbox_inches='tight')"
   ]
  },
  {
   "cell_type": "code",
   "execution_count": 5,
   "metadata": {},
   "outputs": [
    {
     "data": {
      "image/png": "[encoded data removed]",
      "text/plain": [
       "<Figure size 432x288 with 1 Axes>"
      ]
     },
     "metadata": {
      "needs_background": "light"
     },
     "output_type": "display_data"
    }
   ],
   "source": [
    "ssim_train=[1.0071414912677454,\n",
    " 1.0063837694109032,\n",
    " 1.007987714954279,\n",
    " 1.009239137541994,\n",
    " 0.9957269315433068,\n",
    " 0.9889557797350222,\n",
    " 1.0]\n",
    "ratios=[0.3, 0.4, 0.5, 0.6, 0.7, 0.8, 0.9]\n",
    "\n",
    "plt.xlabel(\"Preserved ratio\")\n",
    "plt.ylabel(\"average SSIM / Vol. of training set\")\n",
    "plt.plot( ratios,ssim_train,'--bo',color='black')\n",
    "plt.savefig('ratio.svg', bbox_inches='tight',format='svg')"
   ]
  },
  {
   "cell_type": "code",
   "execution_count": null,
   "metadata": {},
   "outputs": [],
   "source": []
  },
  {
   "cell_type": "code",
   "execution_count": null,
   "metadata": {},
   "outputs": [],
   "source": []
  },
  {
   "cell_type": "code",
   "execution_count": null,
   "metadata": {},
   "outputs": [],
   "source": []
  },
  {
   "cell_type": "code",
   "execution_count": null,
   "metadata": {},
   "outputs": [],
   "source": []
  },
  {
   "cell_type": "code",
   "execution_count": null,
   "metadata": {},
   "outputs": [],
   "source": []
  },
  {
   "cell_type": "code",
   "execution_count": null,
   "metadata": {},
   "outputs": [],
   "source": []
  },
  {
   "cell_type": "code",
   "execution_count": null,
   "metadata": {},
   "outputs": [],
   "source": []
  },
  {
   "cell_type": "code",
   "execution_count": null,
   "metadata": {},
   "outputs": [],
   "source": []
  },
  {
   "cell_type": "code",
   "execution_count": null,
   "metadata": {},
   "outputs": [],
   "source": []
  },
  {
   "cell_type": "code",
   "execution_count": 43,
   "metadata": {},
   "outputs": [
    {
     "data": {
      "image/png": "[encoded data removed]",
      "text/plain": [
       "<Figure size 432x288 with 1 Axes>"
      ]
     },
     "metadata": {
      "needs_background": "light"
     },
     "output_type": "display_data"
    }
   ],
   "source": [
    "import matplotlib.pyplot as plt\n",
    "import numpy as np\n",
    "import scipy.stats as stats\n",
    "import math\n",
    "\n",
    "mu = 0\n",
    "variance = 1\n",
    "sigma = math.sqrt(variance)\n",
    "x = np.linspace(mu - 3*sigma, mu + 3*sigma, 100)\n",
    "y=stats.norm.pdf(x, mu, sigma)\n",
    "x=list(x)\n",
    "y=list(y)\n",
    "x.extend([-0.5,0.5,0,-0.1,0.1,-0.2,0.2,-0.3,0.3,0,0,0])\n",
    "y.extend([0.27,0.27,0.2,0.19,0.19,0.18,0.18,0.19,0.19,0.21,0.22,0.23])\n",
    "plt.scatter(x, y)\n",
    "plt.show()"
   ]
  },
  {
   "cell_type": "code",
   "execution_count": null,
   "metadata": {},
   "outputs": [],
   "source": []
  }
 ],
 "metadata": {
  "kernelspec": {
   "display_name": "Python 3",
   "language": "python",
   "name": "python3"
  },
  "language_info": {
   "codemirror_mode": {
    "name": "ipython",
    "version": 3
   },
   "file_extension": ".py",
   "mimetype": "text/x-python",
   "name": "python",
   "nbconvert_exporter": "python",
   "pygments_lexer": "ipython3",
   "version": "3.5.2"
  },
  "varInspector": {
   "cols": {
    "lenName": 16,
    "lenType": 16,
    "lenVar": 40
   },
   "kernels_config": {
    "python": {
     "delete_cmd_postfix": "",
     "delete_cmd_prefix": "del ",
     "library": "var_list.py",
     "varRefreshCmd": "print(var_dic_list())"
    },
    "r": {
     "delete_cmd_postfix": ") ",
     "delete_cmd_prefix": "rm(",
     "library": "var_list.r",
     "varRefreshCmd": "cat(var_dic_list()) "
    }
   },
   "types_to_exclude": [
    "module",
    "function",
    "builtin_function_or_method",
    "instance",
    "_Feature"
   ],
   "window_display": false
  }
 },
 "nbformat": 4,
 "nbformat_minor": 2
}
