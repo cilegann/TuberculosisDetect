{
 "cells": [
  {
   "cell_type": "code",
   "execution_count": null,
   "metadata": {},
   "outputs": [],
   "source": [
    "import os\n",
    "import random\n",
    "from tqdm import tqdm_notebook as tqdm"
   ]
  },
  {
   "cell_type": "code",
   "execution_count": null,
   "metadata": {},
   "outputs": [],
   "source": [
    "train_basedir='../../data/'\n",
    "vali_basedir-'../../data/vali'\n",
    "categs=['negative','positive','polluted']\n",
    "moving=[870,0,0]\n",
    "prefix='otr_'"
   ]
  },
  {
   "cell_type": "code",
   "execution_count": null,
   "metadata": {},
   "outputs": [],
   "source": [
    "for i in range(3):\n",
    "    print(\"Processing \",labels[i])\n",
    "    filenames=[]\n",
    "    for file in os.listdir(os.path.join(train_dir,labels[i])):\n",
    "        if 'txt' not in file and prefix in file:\n",
    "            print(file)\n",
    "            filenames.append(file)\n",
    "    to_move_id=random.sample(range(0,len(filenames)),num_of_moving[i])\n",
    "    to_moves=[filenames[id] for id in to_move_id]"
   ]
  }
 ],
 "metadata": {
  "kernelspec": {
   "display_name": "Python 3",
   "language": "python",
   "name": "python3"
  },
  "language_info": {
   "codemirror_mode": {
    "name": "ipython",
    "version": 3
   },
   "file_extension": ".py",
   "mimetype": "text/x-python",
   "name": "python",
   "nbconvert_exporter": "python",
   "pygments_lexer": "ipython3",
   "version": "3.5.2"
  }
 },
 "nbformat": 4,
 "nbformat_minor": 2
}
