{
 "cells": [
  {
   "cell_type": "code",
   "execution_count": 4,
   "metadata": {},
   "outputs": [],
   "source": [
    "import os\n",
    "import random\n",
    "from tqdm import tqdm_notebook as tqdm\n",
    "from datetime import datetime\n",
    "random.seed(datetime.now())"
   ]
  },
  {
   "cell_type": "code",
   "execution_count": 5,
   "metadata": {},
   "outputs": [],
   "source": [
    "train_dir='../../exp_data'\n",
    "train_jail_dir=os.path.join(train_dir,'jail')\n",
    "vali_dir=os.path.join(train_dir,'vali')\n",
    "labels=['negative','positive','polluted']\n",
    "num_of_moving=[100,100,100]\n",
    "prefix='otr_'"
   ]
  },
  {
   "cell_type": "code",
   "execution_count": 10,
   "metadata": {},
   "outputs": [
    {
     "name": "stdout",
     "output_type": "stream",
     "text": [
      "Processing  negative\n",
      "Size of tomove: 100\n",
      "Size of group: 96\n",
      "Total Jail: 964\n",
      "Processing  positive\n",
      "Size of tomove: 100\n",
      "Size of group: 40\n",
      "Total Jail: 191\n",
      "Processing  polluted\n",
      "Size of tomove: 100\n",
      "Size of group: 54\n",
      "Total Jail: 399\n"
     ]
    }
   ],
   "source": [
    "for i in range(3):\n",
    "    print(\"Processing \",labels[i])\n",
    "    filenames=[]\n",
    "    for file in os.listdir(os.path.join(train_dir,labels[i])):\n",
    "        if 'txt' not in file:\n",
    "            filenames.append(file)\n",
    "    filenames_set=set(filenames)\n",
    "    filenames_set_bu=set(filenames)\n",
    "    to_move_id=random.sample(range(0,len(filenames)),num_of_moving[i])\n",
    "    to_moves=[filenames[id] for id in to_move_id]\n",
    "    to_moves_group=[g[:g.find(\"_\")] for g in to_moves]\n",
    "    to_moves_group=list(set(to_moves_group))\n",
    "    print(\"Size of tomove:\",len(to_moves))\n",
    "    print(\"Size of group:\",len(to_moves_group))\n",
    "    prison=0\n",
    "    for to_move in to_moves:\n",
    "        filenames_set.remove(to_move)\n",
    "        filenames_set_bu.remove(to_move)\n",
    "    for g in to_moves_group:\n",
    "        if g!=\"p\":\n",
    "            for f in filenames_set_bu:\n",
    "                if g in f:\n",
    "                    #print(\"JAIL:\",f,\"(GROUP\",g,\")\")\n",
    "                    filenames_set.remove(f)\n",
    "                    prison+=1\n",
    "    print(\"Total Jail:\",prison)\n",
    "    "
   ]
  },
  {
   "cell_type": "code",
   "execution_count": null,
   "metadata": {},
   "outputs": [],
   "source": []
  }
 ],
 "metadata": {
  "kernelspec": {
   "display_name": "Python 3",
   "language": "python",
   "name": "python3"
  },
  "language_info": {
   "codemirror_mode": {
    "name": "ipython",
    "version": 3
   },
   "file_extension": ".py",
   "mimetype": "text/x-python",
   "name": "python",
   "nbconvert_exporter": "python",
   "pygments_lexer": "ipython3",
   "version": "3.5.2"
  }
 },
 "nbformat": 4,
 "nbformat_minor": 2
}
