{
 "cells": [
  {
   "cell_type": "code",
   "execution_count": 100,
   "metadata": {},
   "outputs": [],
   "source": [
    "import os\n",
    "import random\n",
    "from tqdm import tqdm_notebook as tqdm\n",
    "from datetime import datetime\n",
    "import math\n",
    "random.seed(datetime.now())"
   ]
  },
  {
   "cell_type": "code",
   "execution_count": 101,
   "metadata": {},
   "outputs": [],
   "source": [
    "database='./data_new'\n",
    "dirs=['negative','positive','polluted']\n",
    "samples={}"
   ]
  },
  {
   "cell_type": "code",
   "execution_count": 102,
   "metadata": {},
   "outputs": [],
   "source": [
    "def getGroup(str):\n",
    "    return str[:str.find(\"_\")]"
   ]
  },
  {
   "cell_type": "code",
   "execution_count": 103,
   "metadata": {},
   "outputs": [],
   "source": [
    "def getDateStr(str):\n",
    "    if '/' in str:\n",
    "        str=str[str.rfind('/'):]\n",
    "    return str[str.find(\"_\")+1:str.find(\".\")]"
   ]
  },
  {
   "cell_type": "code",
   "execution_count": 104,
   "metadata": {},
   "outputs": [],
   "source": [
    "def getDate(str):\n",
    "    return datetime.strptime(getDateStr(str), \"%Y%m%d\").date()"
   ]
  },
  {
   "cell_type": "code",
   "execution_count": 105,
   "metadata": {},
   "outputs": [
    {
     "name": "stdout",
     "output_type": "stream",
     "text": [
      "+++ Start building info +++\n",
      "+++ Building info done +++\n"
     ]
    }
   ],
   "source": [
    "samples={}\n",
    "print(\"+++ Start building info +++\")\n",
    "for r,ds,fs in os.walk(database):\n",
    "    for f in fs:\n",
    "        path=os.path.join(r,f)\n",
    "        group=getGroup(f)\n",
    "        if 'txt' not in f and 'jpg' in f:\n",
    "            if len(group)!=1 and group!='discrete':\n",
    "                if group not in samples:\n",
    "                    samples[group]={'files':[],'result':0,'duration':0,'length':0,'type':'sample','firstdate':None}\n",
    "                samples[group]['files'].append(path)\n",
    "            else:\n",
    "                samples[f]={'files':[path],'result':0,'duration':1,'length':1,'type':'discrete','firstdate':None}\n",
    "                if 'positive' in path:\n",
    "                    samples[f]['result']=1\n",
    "                if 'polluted' in path:\n",
    "                    samples[f]['result']=2\n",
    "print(\"+++ Building info done +++\")"
   ]
  },
  {
   "cell_type": "code",
   "execution_count": 107,
   "metadata": {},
   "outputs": [
    {
     "name": "stdout",
     "output_type": "stream",
     "text": [
      "+++ Start sorting +++\n",
      "+++ Sorting done +++\n"
     ]
    }
   ],
   "source": [
    "\n",
    "print(\"+++ Start sorting +++\")\n",
    "for k,v in samples.items():\n",
    "    samples[k]['files']=sorted(samples[k]['files'],key=lambda x:getDateStr(x))\n",
    "print(\"+++ Sorting done +++\")\n",
    "\n"
   ]
  },
  {
   "cell_type": "code",
   "execution_count": 108,
   "metadata": {},
   "outputs": [
    {
     "name": "stdout",
     "output_type": "stream",
     "text": [
      "+++ Start computing duration and length +++\n",
      "+++ Computing duration and length done +++\n"
     ]
    }
   ],
   "source": [
    "print(\"+++ Start computing duration and length +++\")\n",
    "for k,v in (samples.items()):\n",
    "    if samples[k]['type']==\"sample\":\n",
    "        samples[k]['duration']=(getDate(samples[k]['files'][-1])-getDate(samples[k]['files'][0])).days+1\n",
    "        samples[k]['length']=len(samples[k]['files'])\n",
    "        samples[k]['firstdate']=getDate(samples[k]['files'][0])\n",
    "        if 'positive' in samples[k]['files'][-1]:\n",
    "            samples[k]['result']=1\n",
    "        if 'polluted' in samples[k]['files'][-1]:\n",
    "            samples[k]['result']=2\n",
    "print(\"+++ Computing duration and length done +++\")"
   ]
  },
  {
   "cell_type": "code",
   "execution_count": 109,
   "metadata": {},
   "outputs": [],
   "source": [
    "negative={}\n",
    "positive={}\n",
    "polluted={}\n",
    "for k,v in (samples.items()):\n",
    "    if samples[k]['result']==0:\n",
    "        negative[k]=samples[k]\n",
    "    elif samples[k]['result']==1:\n",
    "        positive[k]=samples[k]\n",
    "    elif samples[k]['result']==2:\n",
    "        polluted[k]=samples[k]"
   ]
  },
  {
   "cell_type": "code",
   "execution_count": 110,
   "metadata": {},
   "outputs": [
    {
     "name": "stdout",
     "output_type": "stream",
     "text": [
      "1430\n",
      "182\n",
      "124\n"
     ]
    }
   ],
   "source": [
    "print(len(negative))\n",
    "print(len(positive))\n",
    "print(len(polluted))"
   ]
  },
  {
   "cell_type": "code",
   "execution_count": 111,
   "metadata": {},
   "outputs": [],
   "source": [
    "vali_negative_groups=random.sample(set(negative),100)\n",
    "vali_positive_groups=random.sample(set(positive),100)\n",
    "vali_polluted_groups=random.sample(set(polluted),100)\n",
    "vali_groups=vali_negative_groups+vali_positive_groups+vali_polluted_groups"
   ]
  },
  {
   "cell_type": "code",
   "execution_count": 112,
   "metadata": {},
   "outputs": [],
   "source": [
    "train_negative=[]\n",
    "train_positive=[]\n",
    "train_polluted=[]\n",
    "jail_negative=[]\n",
    "jail_positive=[]\n",
    "jail_polluted=[]\n",
    "vali_negative=[]\n",
    "vali_positive=[]\n",
    "vali_polluted=[]"
   ]
  },
  {
   "cell_type": "code",
   "execution_count": 113,
   "metadata": {},
   "outputs": [],
   "source": [
    "for k,v in samples.items():\n",
    "    if k not in vali_groups:\n",
    "        for f in v['files']:\n",
    "            if 'negative' in f:\n",
    "                train_negative.append(f)\n",
    "            elif 'positive' in f:\n",
    "                train_positive.append(f)\n",
    "            elif 'polluted' in f:\n",
    "                train_polluted.append(f)\n",
    "            else:\n",
    "                print(\"Type error:\",f)\n",
    "    else:\n",
    "        vali_file=v['files'][-1]\n",
    "        if 'negative' in vali_file:\n",
    "            vali_negative.append(vali_file)\n",
    "        elif 'positive' in vali_file:\n",
    "            vali_positive.append(vali_file)\n",
    "        elif 'polluted' in vali_file:\n",
    "            vali_polluted.append(vali_file)\n",
    "        files=v['files'][:-1]\n",
    "        remainder_len=len(files)\n",
    "        train_len=math.ceil(remainder_len*0.8)\n",
    "        #print(\"Class\",v['result'],\"Remain:\",remainder_len,\"Train:\",train_len,\"Jail:\",remainder_len-train_len,k)\n",
    "        for i,f in enumerate(files):\n",
    "            if i<=train_len:\n",
    "                if 'negative' in f:\n",
    "                    train_negative.append(f)\n",
    "                elif 'positive' in f:\n",
    "                    train_positive.append(f)\n",
    "                elif 'polluted' in f:\n",
    "                    train_polluted.append(f)\n",
    "            else:\n",
    "                if 'negative' in f:\n",
    "                    jail_negative.append(f)\n",
    "                elif 'positive' in f:\n",
    "                    jail_positive.append(f)\n",
    "                elif 'polluted' in f:\n",
    "                    jail_polluted.append(f)"
   ]
  },
  {
   "cell_type": "code",
   "execution_count": 114,
   "metadata": {},
   "outputs": [
    {
     "name": "stdout",
     "output_type": "stream",
     "text": [
      "14705 41 100\n",
      "541 19 100\n",
      "868 38 100\n"
     ]
    }
   ],
   "source": [
    "print(len(train_negative),len(jail_negative),len(vali_negative))\n",
    "print(len(train_positive),len(jail_positive),len(vali_positive))\n",
    "print(len(train_polluted),len(jail_polluted),len(vali_polluted))"
   ]
  },
  {
   "cell_type": "code",
   "execution_count": 115,
   "metadata": {},
   "outputs": [],
   "source": [
    "with open('./mapping/190408_newdata_train_cnn_mapping.csv','w') as file:\n",
    "    file.write(\"file_path,label\\n\")\n",
    "    for f in train_negative:\n",
    "        file.write(f+\",0\\n\")\n",
    "    for f in train_positive:\n",
    "        file.write(f+\",1\\n\")\n",
    "    for f in train_polluted:\n",
    "        file.write(f+\",2\\n\")\n",
    "with open('./mapping/190408_newdata_train_yolo9000_mapping.csv','w') as file:\n",
    "    file.write(\"file_path,label\\n\")\n",
    "    for f in train_negative:\n",
    "        file.write(f+\".txt,0\\n\")\n",
    "    for f in train_positive:\n",
    "        file.write(f+\".txt,1\\n\")\n",
    "    for f in train_polluted:\n",
    "        file.write(f+\".txt,2\\n\")\n",
    "with open('./mapping/190408_newdata_vali_cnn_mapping.csv','w') as file:\n",
    "    file.write(\"file_path,label\\n\")\n",
    "    for f in vali_negative:\n",
    "        file.write(f+\",0\\n\")\n",
    "    for f in vali_positive:\n",
    "        file.write(f+\",1\\n\")\n",
    "    for f in vali_polluted:\n",
    "        file.write(f+\",2\\n\")\n",
    "with open('./mapping/190408_newdata_vali_yolo9000_mapping.csv','w') as file:\n",
    "    file.write(\"file_path,label\\n\")\n",
    "    for f in vali_negative:\n",
    "        file.write(f+\".txt,0\\n\")\n",
    "    for f in vali_positive:\n",
    "        file.write(f+\".txt,1\\n\")\n",
    "    for f in vali_polluted:\n",
    "        file.write(f+\".txt,2\\n\")"
   ]
  },
  {
   "cell_type": "code",
   "execution_count": null,
   "metadata": {},
   "outputs": [],
   "source": []
  }
 ],
 "metadata": {
  "kernelspec": {
   "display_name": "Python 3",
   "language": "python",
   "name": "python3"
  },
  "language_info": {
   "codemirror_mode": {
    "name": "ipython",
    "version": 3
   },
   "file_extension": ".py",
   "mimetype": "text/x-python",
   "name": "python",
   "nbconvert_exporter": "python",
   "pygments_lexer": "ipython3",
   "version": "3.5.2"
  },
  "varInspector": {
   "cols": {
    "lenName": 16,
    "lenType": 16,
    "lenVar": 40
   },
   "kernels_config": {
    "python": {
     "delete_cmd_postfix": "",
     "delete_cmd_prefix": "del ",
     "library": "var_list.py",
     "varRefreshCmd": "print(var_dic_list())"
    },
    "r": {
     "delete_cmd_postfix": ") ",
     "delete_cmd_prefix": "rm(",
     "library": "var_list.r",
     "varRefreshCmd": "cat(var_dic_list()) "
    }
   },
   "oldHeight": 500,
   "position": {
    "height": "40px",
    "left": "867px",
    "right": "20px",
    "top": "111px",
    "width": "359px"
   },
   "types_to_exclude": [
    "module",
    "function",
    "builtin_function_or_method",
    "instance",
    "_Feature"
   ],
   "varInspector_section_display": "none",
   "window_display": true
  }
 },
 "nbformat": 4,
 "nbformat_minor": 2
}
